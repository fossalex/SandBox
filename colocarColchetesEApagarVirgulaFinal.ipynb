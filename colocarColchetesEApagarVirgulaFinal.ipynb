{
 "cells": [
  {
   "cell_type": "code",
   "execution_count": 1,
   "id": "277907e8",
   "metadata": {},
   "outputs": [],
   "source": [
    "import json, csv\n",
    "with open('LISTA_IDENTIFICACAO_PESSOAS.json', 'r', encoding='utf8') as json_file:\n",
    "    tmp = json_file.readline()\n",
    "    tam = len(tmp)\n",
    "    tmp = tmp[::-1]\n",
    "    tmp = tmp[1:]\n",
    "    tmp = tmp[::-1]\n",
    "    tmp = '[' + tmp + ']'\n",
    "    with open('Lista.json', 'w', encoding='utf8') as lista:\n",
    "        lista.write(tmp)\n",
    "    "
   ]
  },
  {
   "cell_type": "code",
   "execution_count": null,
   "id": "271ebce5",
   "metadata": {},
   "outputs": [],
   "source": []
  }
 ],
 "metadata": {
  "kernelspec": {
   "display_name": "Python 3 (ipykernel)",
   "language": "python",
   "name": "python3"
  },
  "language_info": {
   "codemirror_mode": {
    "name": "ipython",
    "version": 3
   },
   "file_extension": ".py",
   "mimetype": "text/x-python",
   "name": "python",
   "nbconvert_exporter": "python",
   "pygments_lexer": "ipython3",
   "version": "3.9.0"
  }
 },
 "nbformat": 4,
 "nbformat_minor": 5
}
