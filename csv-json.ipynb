{
 "cells": [
  {
   "cell_type": "code",
   "execution_count": 11,
   "metadata": {},
   "outputs": [],
   "source": [
    "import json, csv, pandas as pd\n",
    "with open('teste.csv', 'r', encoding='utf8') as csv_file:\n",
    "    #fieldnames = ('prontuario', 'nome', 'mae', 'cub')\n",
    "    reader = csv.DictReader(csv_file)\n",
    "    pk = 0\n",
    "    response = {}\n",
    "    \n",
    "    with open('teste-1.json', 'w+', encoding='utf8') as json_file:\n",
    "        for row in reader:\n",
    "            pk += 1\n",
    "            response = {\n",
    "                'model': 'core.ppl',\n",
    "                'pk': pk,\n",
    "                'fields': {\n",
    "                    'prontuario': row['prontuario'],\n",
    "                    'nome': row['nome'],\n",
    "                    'mae': row['mae'],\n",
    "                    'cubiculo': row['cub']\n",
    "                }\n",
    "            }\n",
    "            appJson = json.dumps(response)\n",
    "            json_file.write(appJson + ',')"
   ]
  },
  {
   "cell_type": "code",
   "execution_count": null,
   "metadata": {},
   "outputs": [],
   "source": []
  }
 ],
 "metadata": {
  "interpreter": {
   "hash": "554c6ab46693cfc8665893c72055fb30e3b4dc728c84157f1a2b0a5b87eb5428"
  },
  "kernelspec": {
   "display_name": "Python 3 (ipykernel)",
   "language": "python",
   "name": "python3"
  },
  "language_info": {
   "codemirror_mode": {
    "name": "ipython",
    "version": 3
   },
   "file_extension": ".py",
   "mimetype": "text/x-python",
   "name": "python",
   "nbconvert_exporter": "python",
   "pygments_lexer": "ipython3",
   "version": "3.9.0"
  }
 },
 "nbformat": 4,
 "nbformat_minor": 2
}
