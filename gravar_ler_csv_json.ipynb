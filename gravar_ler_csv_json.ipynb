{
 "cells": [
  {
   "cell_type": "code",
   "execution_count": 2,
   "id": "602d7bab",
   "metadata": {},
   "outputs": [
    {
     "name": "stdout",
     "output_type": "stream",
     "text": [
      "{\n",
      "    \"model\": \"core.ppl\",\n",
      "    \"pk\": 1,\n",
      "    \"fields\": {\n",
      "        \"prontuario\": \"1\",\n",
      "        \"nome\": \"a\",\n",
      "        \"mae\": \"ma\",\n",
      "        \"cubiculo\": \"1\"\n",
      "    }\n",
      "}{\n",
      "    \"model\": \"core.ppl\",\n",
      "    \"pk\": 2,\n",
      "    \"fields\": {\n",
      "        \"prontuario\": \"2\",\n",
      "        \"nome\": \"b\",\n",
      "        \"mae\": \"mb\",\n",
      "        \"cubiculo\": \"2\"\n",
      "    }\n",
      "}{\n",
      "    \"model\": \"core.ppl\",\n",
      "    \"pk\": 3,\n",
      "    \"fields\": {\n",
      "        \"prontuario\": \"3\",\n",
      "        \"nome\": \"c\",\n",
      "        \"mae\": \"mc\",\n",
      "        \"cubiculo\": \"3\"\n",
      "    }\n",
      "}{\n",
      "    \"model\": \"core.ppl\",\n",
      "    \"pk\": 4,\n",
      "    \"fields\": {\n",
      "        \"prontuario\": \"4\",\n",
      "        \"nome\": \"d\",\n",
      "        \"mae\": \"md\",\n",
      "        \"cubiculo\": \"4\"\n",
      "    }\n",
      "}{\n",
      "    \"model\": \"core.ppl\",\n",
      "    \"pk\": 5,\n",
      "    \"fields\": {\n",
      "        \"prontuario\": \"5\",\n",
      "        \"nome\": \"e\",\n",
      "        \"mae\": \"me\",\n",
      "        \"cubiculo\": \"5\"\n",
      "    }\n",
      "}{\n",
      "    \"model\": \"core.ppl\",\n",
      "    \"pk\": 6,\n",
      "    \"fields\": {\n",
      "        \"prontuario\": \"6\",\n",
      "        \"nome\": \"f\",\n",
      "        \"mae\": \"mf\",\n",
      "        \"cubiculo\": \"6\"\n",
      "    }\n",
      "}\n"
     ]
    }
   ],
   "source": [
    "import csv, json\n",
    "csv_file = open('teste.csv', mode='r', encoding='utf8')\n",
    "csv_reader = csv.DictReader(csv_file)\n",
    "pk = 0\n",
    "response = {}\n",
    "json_file = open('teste.json', 'w', encoding='utf8')\n",
    "for row in csv_reader:\n",
    "    pk += 1\n",
    "    response = {\n",
    "            'model': 'core.ppl',\n",
    "            'pk': pk,\n",
    "            'fields': {\n",
    "                'prontuario': row['prontuario'],\n",
    "                'nome': row['nome'],\n",
    "                'mae': row['mae'],\n",
    "                'cubiculo': row['cub']\n",
    "            }\n",
    "        }\n",
    "    json.dump(response, json_file, indent=4)\n",
    "\n",
    "json_file.close()\n",
    "\n",
    "json_file = open('teste.json', 'r', encoding='utf8')\n",
    "data = json_file.read()\n",
    "print(data)\n",
    "json_file.close()"
   ]
  },
  {
   "cell_type": "code",
   "execution_count": null,
   "id": "9488f6e4",
   "metadata": {},
   "outputs": [],
   "source": []
  }
 ],
 "metadata": {
  "interpreter": {
   "hash": "554c6ab46693cfc8665893c72055fb30e3b4dc728c84157f1a2b0a5b87eb5428"
  },
  "kernelspec": {
   "display_name": "Python 3 (ipykernel)",
   "language": "python",
   "name": "python3"
  },
  "language_info": {
   "codemirror_mode": {
    "name": "ipython",
    "version": 3
   },
   "file_extension": ".py",
   "mimetype": "text/x-python",
   "name": "python",
   "nbconvert_exporter": "python",
   "pygments_lexer": "ipython3",
   "version": "3.9.0"
  }
 },
 "nbformat": 4,
 "nbformat_minor": 5
}
