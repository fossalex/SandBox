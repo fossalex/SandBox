{
 "cells": [
  {
   "cell_type": "code",
   "execution_count": 71,
   "id": "dfa0248b",
   "metadata": {},
   "outputs": [],
   "source": [
    "import json, csv\n",
    "with open('LISTA_IDENTIFICACAO_PESSOAS.csv', 'r', encoding='utf8') as csv_file:\n",
    "    reader = csv.DictReader(csv_file)\n",
    "    pk = 0\n",
    "    response = {}\n",
    "    \n",
    "    with open('LISTA_IDENTIFICACAO_PESSOAS.json', 'w', encoding='utf8') as json_file:\n",
    "        for row in reader:\n",
    "            pk += 1\n",
    "            a = row['alojamento'][::-1]\n",
    "            b = a[2::-1]\n",
    "            yyyy = row['nascimento'][-4::]\n",
    "            mm = row['nascimento'][3:5:]\n",
    "            dd = row['nascimento'][:2:]\n",
    "            date = yyyy + '-' + mm + '-' + dd\n",
    "            response = {\n",
    "                'model': 'cadastros.ppl',\n",
    "                'pk': pk,\n",
    "                'fields': {\n",
    "                    'prontuario': row['prontuario'],\n",
    "                    'nome': row['nome'],\n",
    "                    'alojamento': b,\n",
    "                    'mae': row['mae'],\n",
    "                    'pai': row['pai'],\n",
    "                    'nascimento': date\n",
    "                }\n",
    "            }\n",
    "            appJson = json.dumps(response)\n",
    "            json_file.write(appJson + ',')"
   ]
  },
  {
   "cell_type": "code",
   "execution_count": 72,
   "id": "ffe50b98",
   "metadata": {},
   "outputs": [],
   "source": [
    "with open('LISTA_IDENTIFICACAO_PESSOAS.json', 'r', encoding='utf8') as json_file:\n",
    "    tmp = json_file.readline()\n",
    "    tmp = tmp[::-1]\n",
    "    tmp = tmp[1:]\n",
    "    tmp = tmp[::-1]\n",
    "    tmp = '[' + tmp + ']'\n",
    "    with open('Lista.json', 'w', encoding='utf8') as lista:\n",
    "        lista.write(tmp)"
   ]
  },
  {
   "cell_type": "code",
   "execution_count": 66,
   "id": "b7d1d61b",
   "metadata": {},
   "outputs": [],
   "source": [
    "import json, csv\n",
    "with open('LISTA_IDENTIFICACAO_PESSOAS.csv', 'r', encoding='utf8') as csv_file:\n",
    "    reader = csv.DictReader(csv_file)\n",
    "    for row in reader:\n",
    "        yyyy = row['nascimento'][-4::]\n",
    "        mm = row['nascimento'][3:5:]\n",
    "        dd = row['nascimento'][:2:]\n",
    "        date = yyyy + '-' + mm + '-' + dd"
   ]
  },
  {
   "cell_type": "code",
   "execution_count": 67,
   "id": "c405a229",
   "metadata": {},
   "outputs": [
    {
     "data": {
      "text/plain": [
       "'1986-08-26'"
      ]
     },
     "execution_count": 67,
     "metadata": {},
     "output_type": "execute_result"
    }
   ],
   "source": [
    "tmp"
   ]
  },
  {
   "cell_type": "code",
   "execution_count": 68,
   "id": "2e6dea90",
   "metadata": {},
   "outputs": [
    {
     "data": {
      "text/plain": [
       "'1986'"
      ]
     },
     "execution_count": 68,
     "metadata": {},
     "output_type": "execute_result"
    }
   ],
   "source": [
    "yyyy"
   ]
  },
  {
   "cell_type": "code",
   "execution_count": 69,
   "id": "64d7e1a8",
   "metadata": {},
   "outputs": [
    {
     "data": {
      "text/plain": [
       "'08'"
      ]
     },
     "execution_count": 69,
     "metadata": {},
     "output_type": "execute_result"
    }
   ],
   "source": [
    "mm"
   ]
  },
  {
   "cell_type": "code",
   "execution_count": 70,
   "id": "b5e316a3",
   "metadata": {},
   "outputs": [
    {
     "data": {
      "text/plain": [
       "'26'"
      ]
     },
     "execution_count": 70,
     "metadata": {},
     "output_type": "execute_result"
    }
   ],
   "source": [
    "dd"
   ]
  },
  {
   "cell_type": "code",
   "execution_count": null,
   "id": "36b8cd1a",
   "metadata": {},
   "outputs": [],
   "source": []
  }
 ],
 "metadata": {
  "kernelspec": {
   "display_name": "Python 3 (ipykernel)",
   "language": "python",
   "name": "python3"
  },
  "language_info": {
   "codemirror_mode": {
    "name": "ipython",
    "version": 3
   },
   "file_extension": ".py",
   "mimetype": "text/x-python",
   "name": "python",
   "nbconvert_exporter": "python",
   "pygments_lexer": "ipython3",
   "version": "3.9.0"
  }
 },
 "nbformat": 4,
 "nbformat_minor": 5
}
