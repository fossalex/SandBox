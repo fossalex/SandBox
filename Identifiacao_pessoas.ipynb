{
 "cells": [
  {
   "cell_type": "code",
   "execution_count": 17,
   "id": "441edf92",
   "metadata": {},
   "outputs": [],
   "source": [
    "import json, csv, pandas as pd\n",
    "with open('LISTA_IDENTIFICACAO_PESSOAS.csv', 'r', encoding='utf8') as csv_file:\n",
    "    #fieldnames = ('prontuario', 'nome', 'mae', 'cub')\n",
    "    reader = csv.DictReader(csv_file)\n",
    "    pk = 0\n",
    "    response = {}\n",
    "    \n",
    "    with open('LISTA_IDENTIFICACAO_PESSOAS.json', 'w+', encoding='utf8') as json_file:\n",
    "        for row in reader:\n",
    "            pk += 1\n",
    "            a = row['alojamento'][::-1]\n",
    "            b = a[2::-1]\n",
    "            response = {\n",
    "                'model': 'core.ppl',\n",
    "                'pk': pk,\n",
    "                'fields': {\n",
    "                    'prontuario': row['prontuario'],\n",
    "                    'nome': row['nome'],\n",
    "                    'alojamento': b,\n",
    "                    'mae': row['mae'],\n",
    "                    'pai': row['pai'],\n",
    "                    'nascimento': row['nascimento']\n",
    "                }\n",
    "            }\n",
    "            appJson = json.dumps(response)\n",
    "            json_file.write(appJson + ',')"
   ]
  },
  {
   "cell_type": "code",
   "execution_count": null,
   "id": "07cd4f64",
   "metadata": {},
   "outputs": [],
   "source": []
  }
 ],
 "metadata": {
  "kernelspec": {
   "display_name": "Python 3 (ipykernel)",
   "language": "python",
   "name": "python3"
  },
  "language_info": {
   "codemirror_mode": {
    "name": "ipython",
    "version": 3
   },
   "file_extension": ".py",
   "mimetype": "text/x-python",
   "name": "python",
   "nbconvert_exporter": "python",
   "pygments_lexer": "ipython3",
   "version": "3.9.0"
  }
 },
 "nbformat": 4,
 "nbformat_minor": 5
}
